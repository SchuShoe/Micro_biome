{
  "cells": [
    {
      "cell_type": "markdown",
      "metadata": {
        "id": "nQRlv0ypvthh"
      },
      "source": [
        "# 🦠 Data preparation:\n",
        "1. Assigning the microbes into different genera -> will be used in the community growth simulation\n",
        "2. Visualize the microbial composition in the samples"
      ]
    },
    {
      "cell_type": "code",
      "execution_count": null,
      "metadata": {
        "colab": {
          "base_uri": "https://localhost:8080/"
        },
        "id": "QFsZdvOuvZmq",
        "outputId": "329004a7-be52-4f3d-a3c2-1a6670493b2c"
      },
      "outputs": [
        {
          "output_type": "stream",
          "name": "stdout",
          "text": [
            "Cloning into 'materials'...\n",
            "remote: Enumerating objects: 34, done.\u001b[K\n",
            "remote: Counting objects: 100% (34/34), done.\u001b[K\n",
            "remote: Compressing objects: 100% (31/31), done.\u001b[K\n",
            "remote: Total 34 (delta 2), reused 0 (delta 0), pack-reused 0\u001b[K\n",
            "Unpacking objects: 100% (34/34), done.\n"
          ]
        }
      ],
      "source": [
        "!git clone https://github.com/SchuShoe/Qiime_2_data materials"
      ]
    },
    {
      "cell_type": "markdown",
      "metadata": {
        "id": "2eenIEY76mcv"
      },
      "source": [
        "We will switch to working within the `materials` directory for the rest of the notebook."
      ]
    },
    {
      "cell_type": "code",
      "execution_count": null,
      "metadata": {
        "colab": {
          "base_uri": "https://localhost:8080/"
        },
        "id": "h3NALJ7u6mBP",
        "outputId": "e37b1548-a96e-4c68-b93f-2c1bcd5af347"
      },
      "outputs": [
        {
          "output_type": "stream",
          "name": "stdout",
          "text": [
            "/content/materials/materials\n"
          ]
        }
      ],
      "source": [
        "%cd materials"
      ]
    },
    {
      "cell_type": "markdown",
      "metadata": {
        "id": "fQVnDjFauZ-n"
      },
      "source": [
        "Now we are ready to set up our environment. This will take about 10-15 minutes. \n",
        "\n",
        "**Note**: This setup is only relevant for Google Colaboratory and will not work on your local machine. Please follow the [official installation instructions](https://docs.qiime2.org/2021.8/install/) for that."
      ]
    },
    {
      "cell_type": "code",
      "execution_count": null,
      "metadata": {
        "colab": {
          "base_uri": "https://localhost:8080/",
          "height": 456
        },
        "id": "BAyTazMCvrpf",
        "outputId": "39ef0e09-ed8d-489e-a750-d1598852e2fc"
      },
      "outputs": [
        {
          "output_type": "stream",
          "name": "stdout",
          "text": [
            "--2022-03-12 19:10:54--  https://github.com/Gibbons-Lab/isb_course_2021/raw/main/setup_qiime2\n",
            "Resolving github.com (github.com)... 140.82.121.3\n",
            "Connecting to github.com (github.com)|140.82.121.3|:443... connected.\n",
            "HTTP request sent, awaiting response... 302 Found\n",
            "Location: https://raw.githubusercontent.com/Gibbons-Lab/isb_course_2021/main/setup_qiime2 [following]\n",
            "--2022-03-12 19:10:54--  https://raw.githubusercontent.com/Gibbons-Lab/isb_course_2021/main/setup_qiime2\n",
            "Resolving raw.githubusercontent.com (raw.githubusercontent.com)... 185.199.108.133, 185.199.109.133, 185.199.110.133, ...\n",
            "Connecting to raw.githubusercontent.com (raw.githubusercontent.com)|185.199.108.133|:443... connected.\n",
            "HTTP request sent, awaiting response... 200 OK\n",
            "Length: 4974 (4.9K) [text/plain]\n",
            "Saving to: ‘setup_qiime2.1’\n",
            "\n",
            "setup_qiime2.1      100%[===================>]   4.86K  --.-KB/s    in 0s      \n",
            "\n",
            "2022-03-12 19:10:55 (61.3 MB/s) - ‘setup_qiime2.1’ saved [4974/4974]\n",
            "\n"
          ]
        },
        {
          "output_type": "display_data",
          "data": {
            "text/plain": [
              "\u001b[2;36m[19:10:58]\u001b[0m\u001b[2;36m \u001b[0m🐍 Miniconda is already installed. Skipped.                        \u001b]8;id=888562;file:///content/materials/materials/setup_qiime2\u001b\\\u001b[2msetup_qiime2\u001b[0m\u001b]8;;\u001b\\\u001b[2m:\u001b[0m\u001b]8;id=529150;file:///content/materials/materials/setup_qiime2#99\u001b\\\u001b[2m99\u001b[0m\u001b]8;;\u001b\\\n"
            ],
            "text/html": [
              "<pre style=\"white-space:pre;overflow-x:auto;line-height:normal;font-family:Menlo,'DejaVu Sans Mono',consolas,'Courier New',monospace\"><span style=\"color: #7fbfbf; text-decoration-color: #7fbfbf\">[19:10:58] </span>🐍 Miniconda is already installed. Skipped.                        <a href=\"file:///content/materials/materials/setup_qiime2\" target=\"_blank\"><span style=\"color: #7f7f7f; text-decoration-color: #7f7f7f\">setup_qiime2</span></a><span style=\"color: #7f7f7f; text-decoration-color: #7f7f7f\">:</span><a href=\"file:///content/materials/materials/setup_qiime2#99\" target=\"_blank\"><span style=\"color: #7f7f7f; text-decoration-color: #7f7f7f\">99</span></a>\n",
              "</pre>\n"
            ]
          },
          "metadata": {}
        },
        {
          "output_type": "display_data",
          "data": {
            "text/plain": [
              "\u001b[2;36m          \u001b[0m\u001b[2;36m \u001b[0m🔍 Qiime \u001b[1;36m2\u001b[0m is already installed. Skipped.                         \u001b]8;id=788183;file:///content/materials/materials/setup_qiime2\u001b\\\u001b[2msetup_qiime2\u001b[0m\u001b]8;;\u001b\\\u001b[2m:\u001b[0m\u001b]8;id=966519;file:///content/materials/materials/setup_qiime2#126\u001b\\\u001b[2m126\u001b[0m\u001b]8;;\u001b\\\n"
            ],
            "text/html": [
              "<pre style=\"white-space:pre;overflow-x:auto;line-height:normal;font-family:Menlo,'DejaVu Sans Mono',consolas,'Courier New',monospace\"><span style=\"color: #7fbfbf; text-decoration-color: #7fbfbf\">           </span>🔍 Qiime <span style=\"color: #008080; text-decoration-color: #008080; font-weight: bold\">2</span> is already installed. Skipped.                         <a href=\"file:///content/materials/materials/setup_qiime2\" target=\"_blank\"><span style=\"color: #7f7f7f; text-decoration-color: #7f7f7f\">setup_qiime2</span></a><span style=\"color: #7f7f7f; text-decoration-color: #7f7f7f\">:</span><a href=\"file:///content/materials/materials/setup_qiime2#126\" target=\"_blank\"><span style=\"color: #7f7f7f; text-decoration-color: #7f7f7f\">126</span></a>\n",
              "</pre>\n"
            ]
          },
          "metadata": {}
        },
        {
          "output_type": "display_data",
          "data": {
            "text/plain": [
              "\u001b[2;36m          \u001b[0m\u001b[2;36m \u001b[0m📊 Checking that Qiime \u001b[1;36m2\u001b[0m command line works\u001b[33m...\u001b[0m                     \u001b]8;id=122900;file:///content/materials/materials/setup_qiime2\u001b\\\u001b[2msetup_qiime2\u001b[0m\u001b]8;;\u001b\\\u001b[2m:\u001b[0m\u001b]8;id=695823;file:///content/materials/materials/setup_qiime2#56\u001b\\\u001b[2m56\u001b[0m\u001b]8;;\u001b\\\n"
            ],
            "text/html": [
              "<pre style=\"white-space:pre;overflow-x:auto;line-height:normal;font-family:Menlo,'DejaVu Sans Mono',consolas,'Courier New',monospace\"><span style=\"color: #7fbfbf; text-decoration-color: #7fbfbf\">           </span>📊 Checking that Qiime <span style=\"color: #008080; text-decoration-color: #008080; font-weight: bold\">2</span> command line works<span style=\"color: #808000; text-decoration-color: #808000\">...</span>                     <a href=\"file:///content/materials/materials/setup_qiime2\" target=\"_blank\"><span style=\"color: #7f7f7f; text-decoration-color: #7f7f7f\">setup_qiime2</span></a><span style=\"color: #7f7f7f; text-decoration-color: #7f7f7f\">:</span><a href=\"file:///content/materials/materials/setup_qiime2#56\" target=\"_blank\"><span style=\"color: #7f7f7f; text-decoration-color: #7f7f7f\">56</span></a>\n",
              "</pre>\n"
            ]
          },
          "metadata": {}
        },
        {
          "output_type": "display_data",
          "data": {
            "text/plain": [
              "\u001b[2;36m[19:10:59]\u001b[0m\u001b[2;36m \u001b[0m\u001b[34m📊 Qiime \u001b[0m\u001b[1;34m2\u001b[0m\u001b[34m command line looks good 🎉\u001b[0m                              \u001b]8;id=668808;file:///content/materials/materials/setup_qiime2\u001b\\\u001b[2msetup_qiime2\u001b[0m\u001b]8;;\u001b\\\u001b[2m:\u001b[0m\u001b]8;id=10126;file:///content/materials/materials/setup_qiime2#62\u001b\\\u001b[2m62\u001b[0m\u001b]8;;\u001b\\\n"
            ],
            "text/html": [
              "<pre style=\"white-space:pre;overflow-x:auto;line-height:normal;font-family:Menlo,'DejaVu Sans Mono',consolas,'Courier New',monospace\"><span style=\"color: #7fbfbf; text-decoration-color: #7fbfbf\">[19:10:59] </span><span style=\"color: #000080; text-decoration-color: #000080\">📊 Qiime </span><span style=\"color: #000080; text-decoration-color: #000080; font-weight: bold\">2</span><span style=\"color: #000080; text-decoration-color: #000080\"> command line looks good 🎉</span>                              <a href=\"file:///content/materials/materials/setup_qiime2\" target=\"_blank\"><span style=\"color: #7f7f7f; text-decoration-color: #7f7f7f\">setup_qiime2</span></a><span style=\"color: #7f7f7f; text-decoration-color: #7f7f7f\">:</span><a href=\"file:///content/materials/materials/setup_qiime2#62\" target=\"_blank\"><span style=\"color: #7f7f7f; text-decoration-color: #7f7f7f\">62</span></a>\n",
              "</pre>\n"
            ]
          },
          "metadata": {}
        },
        {
          "output_type": "display_data",
          "data": {
            "text/plain": [
              "\u001b[2;36m          \u001b[0m\u001b[2;36m \u001b[0m🧹 Cleaned up unneeded files.                                      \u001b]8;id=952974;file:///content/materials/materials/setup_qiime2\u001b\\\u001b[2msetup_qiime2\u001b[0m\u001b]8;;\u001b\\\u001b[2m:\u001b[0m\u001b]8;id=460609;file:///content/materials/materials/setup_qiime2#51\u001b\\\u001b[2m51\u001b[0m\u001b]8;;\u001b\\\n"
            ],
            "text/html": [
              "<pre style=\"white-space:pre;overflow-x:auto;line-height:normal;font-family:Menlo,'DejaVu Sans Mono',consolas,'Courier New',monospace\"><span style=\"color: #7fbfbf; text-decoration-color: #7fbfbf\">           </span>🧹 Cleaned up unneeded files.                                      <a href=\"file:///content/materials/materials/setup_qiime2\" target=\"_blank\"><span style=\"color: #7f7f7f; text-decoration-color: #7f7f7f\">setup_qiime2</span></a><span style=\"color: #7f7f7f; text-decoration-color: #7f7f7f\">:</span><a href=\"file:///content/materials/materials/setup_qiime2#51\" target=\"_blank\"><span style=\"color: #7f7f7f; text-decoration-color: #7f7f7f\">51</span></a>\n",
              "</pre>\n"
            ]
          },
          "metadata": {}
        },
        {
          "output_type": "display_data",
          "data": {
            "text/plain": [
              "\u001b[2;36m          \u001b[0m\u001b[2;36m \u001b[0m\u001b[32mEverything is A-OK. You can start using Qiime \u001b[0m\u001b[1;32m2\u001b[0m\u001b[32m now 👍\u001b[0m            \u001b]8;id=652976;file:///content/materials/materials/setup_qiime2\u001b\\\u001b[2msetup_qiime2\u001b[0m\u001b]8;;\u001b\\\u001b[2m:\u001b[0m\u001b]8;id=261150;file:///content/materials/materials/setup_qiime2#159\u001b\\\u001b[2m159\u001b[0m\u001b]8;;\u001b\\\n"
            ],
            "text/html": [
              "<pre style=\"white-space:pre;overflow-x:auto;line-height:normal;font-family:Menlo,'DejaVu Sans Mono',consolas,'Courier New',monospace\"><span style=\"color: #7fbfbf; text-decoration-color: #7fbfbf\">           </span><span style=\"color: #008000; text-decoration-color: #008000\">Everything is A-OK. You can start using Qiime </span><span style=\"color: #008000; text-decoration-color: #008000; font-weight: bold\">2</span><span style=\"color: #008000; text-decoration-color: #008000\"> now 👍</span>            <a href=\"file:///content/materials/materials/setup_qiime2\" target=\"_blank\"><span style=\"color: #7f7f7f; text-decoration-color: #7f7f7f\">setup_qiime2</span></a><span style=\"color: #7f7f7f; text-decoration-color: #7f7f7f\">:</span><a href=\"file:///content/materials/materials/setup_qiime2#159\" target=\"_blank\"><span style=\"color: #7f7f7f; text-decoration-color: #7f7f7f\">159</span></a>\n",
              "</pre>\n"
            ]
          },
          "metadata": {}
        },
        {
          "output_type": "display_data",
          "data": {
            "text/plain": [
              "<Figure size 432x288 with 0 Axes>"
            ]
          },
          "metadata": {}
        }
      ],
      "source": [
        "# Installing qiime2\n",
        "!wget https://github.com/Gibbons-Lab/isb_course_2021/raw/main/setup_qiime2\n",
        "\n",
        "%run setup_qiime2"
      ]
    },
    {
      "cell_type": "code",
      "execution_count": null,
      "metadata": {
        "colab": {
          "base_uri": "https://localhost:8080/"
        },
        "id": "6mGgUrRf5pyb",
        "outputId": "38296e1a-b45f-44b1-8481-5ad7b4fd489f"
      },
      "outputs": [
        {
          "output_type": "stream",
          "name": "stdout",
          "text": [
            "\u001b[32mImported data/manifest.tsv as SingleEndFastqManifestPhred33V2 to sequences.qza\u001b[0m\n"
          ]
        }
      ],
      "source": [
        "!qiime tools import \\\n",
        "  --type 'SampleData[SequencesWithQuality]' \\\n",
        "  --input-path data/manifest.tsv \\\n",
        "  --output-path sequences.qza \\\n",
        "  --input-format SingleEndFastqManifestPhred33V2"
      ]
    },
    {
      "cell_type": "code",
      "execution_count": null,
      "metadata": {
        "colab": {
          "base_uri": "https://localhost:8080/"
        },
        "id": "feGa41cEApGs",
        "outputId": "52947452-de0b-4de3-88e1-cde7ebdede73"
      },
      "outputs": [
        {
          "output_type": "stream",
          "name": "stdout",
          "text": [
            "\u001b[32mSaved Visualization to: qualities.qzv\u001b[0m\n"
          ]
        }
      ],
      "source": [
        "!qiime demux summarize --i-data sequences.qza --o-visualization qualities.qzv"
      ]
    },
    {
      "cell_type": "markdown",
      "metadata": {
        "id": "Kd-b97lpZVdn"
      },
      "source": [
        "- Reads with quality scores lower than 25 could be truncated."
      ]
    },
    {
      "cell_type": "markdown",
      "metadata": {
        "id": "os5MeRvLIq0v"
      },
      "source": [
        "# Denoising amplicon sequence variants\n",
        "\n",
        "1. filter and trim the reads\n",
        "2. find the most likely set of unique sequences in the sample (ASVs)\n",
        "3. remove chimeras\n",
        "4. count the abundances of each ASV"
      ]
    },
    {
      "cell_type": "code",
      "execution_count": null,
      "metadata": {
        "colab": {
          "base_uri": "https://localhost:8080/"
        },
        "id": "RdLSMp9-Dl-d",
        "outputId": "1f50b4d4-4fd5-45b3-8246-c7b9bc98c677"
      },
      "outputs": [
        {
          "output_type": "stream",
          "name": "stdout",
          "text": [
            "Running external command line application(s). This may print messages to stdout and/or stderr.\n",
            "The command(s) being run are below. These commands cannot be manually re-run as they will depend on temporary files that no longer exist.\n",
            "\n",
            "Command: run_dada_single.R /tmp/qiime2-archive-bdygtcxd/37e20ae5-5f45-46f5-ad8c-9b07b2f35709/data /tmp/tmpenwc64uz/output.tsv.biom /tmp/tmpenwc64uz/track.tsv /tmp/tmpenwc64uz 140 0 2.0 2 Inf independent consensus 1.0 2 1000000 NULL 16\n",
            "\n",
            "R version 4.0.5 (2021-03-31) \n",
            "Loading required package: Rcpp\n",
            "DADA2: 1.18.0 / Rcpp: 1.0.7 / RcppParallel: 5.1.4 \n",
            "1) Filtering .............\n",
            "2) Learning Error Rates\n",
            "114788240 total bases in 819916 reads from 13 samples will be used for learning the error rates.\n",
            "3) Denoise samples .............\n",
            "4) Remove chimeras (method = consensus)\n",
            "5) Report read numbers through the pipeline\n",
            "6) Write output\n",
            "\u001b[32mSaved FeatureTable[Frequency] to: dada2/table.qza\u001b[0m\n",
            "\u001b[32mSaved FeatureData[Sequence] to: dada2/representative_sequences.qza\u001b[0m\n",
            "\u001b[32mSaved SampleData[DADA2Stats] to: dada2/denoising_stats.qza\u001b[0m\n"
          ]
        }
      ],
      "source": [
        "!qiime dada2 denoise-single \\\n",
        "    --i-demultiplexed-seqs sequences.qza \\\n",
        "    --p-trunc-len 140 \\\n",
        "    --p-n-threads 2 \\\n",
        "    --output-dir dada2 --verbose"
      ]
    },
    {
      "cell_type": "code",
      "execution_count": null,
      "metadata": {
        "colab": {
          "base_uri": "https://localhost:8080/"
        },
        "id": "n_Tr3Ujcj61w",
        "outputId": "583ea84a-b9d8-4c42-f5f2-eebb6b167f0b"
      },
      "outputs": [
        {
          "output_type": "stream",
          "name": "stdout",
          "text": [
            "\u001b[32mSaved Visualization to: dada2/denoising-stats.qzv\u001b[0m\n"
          ]
        }
      ],
      "source": [
        "!qiime metadata tabulate \\\n",
        "    --m-input-file dada2/denoising_stats.qza \\\n",
        "    --o-visualization dada2/denoising-stats.qzv"
      ]
    },
    {
      "cell_type": "markdown",
      "metadata": {
        "id": "c0ZV3_sGQ20u"
      },
      "source": [
        "# Phylogeny and diversity"
      ]
    },
    {
      "cell_type": "markdown",
      "metadata": {
        "id": "aEit8p7V9Ht9"
      },
      "source": [
        "## Building a tree\n",
        "\n",
        "We can build a phylogenetic tree for our sequences using the following command:"
      ]
    },
    {
      "cell_type": "code",
      "execution_count": null,
      "metadata": {
        "colab": {
          "base_uri": "https://localhost:8080/"
        },
        "id": "2PVNlD0g9MsX",
        "outputId": "7794e2cb-a202-4580-d9ac-b6a7ce5cf5df"
      },
      "outputs": [
        {
          "output_type": "stream",
          "name": "stdout",
          "text": [
            "\u001b[32mSaved FeatureData[AlignedSequence] to: tree/alignment.qza\u001b[0m\n",
            "\u001b[32mSaved FeatureData[AlignedSequence] to: tree/masked_alignment.qza\u001b[0m\n",
            "\u001b[32mSaved Phylogeny[Unrooted] to: tree/tree.qza\u001b[0m\n",
            "\u001b[32mSaved Phylogeny[Rooted] to: tree/rooted_tree.qza\u001b[0m\n"
          ]
        }
      ],
      "source": [
        "!qiime phylogeny align-to-tree-mafft-fasttree \\\n",
        "    --i-sequences dada2/representative_sequences.qza \\\n",
        "    --output-dir tree"
      ]
    },
    {
      "cell_type": "markdown",
      "metadata": {
        "id": "4lB8NI0IiJgk"
      },
      "source": [
        "We can create a visualization for the tree using the [empress](https://github.com/biocore/empress) Qiime 2 plugin."
      ]
    },
    {
      "cell_type": "code",
      "source": [
        "pip install empress"
      ],
      "metadata": {
        "colab": {
          "base_uri": "https://localhost:8080/"
        },
        "id": "Vcl0E5dEU5De",
        "outputId": "bc8d9b25-9b71-46d7-e23a-c37f2daf338d"
      },
      "execution_count": null,
      "outputs": [
        {
          "output_type": "stream",
          "name": "stdout",
          "text": [
            "Requirement already satisfied: empress in /usr/local/lib/python3.8/site-packages (1.2.0)\n",
            "Requirement already satisfied: jinja2 in /usr/local/lib/python3.8/site-packages (from empress) (3.0.1)\n",
            "Requirement already satisfied: scikit-bio in /usr/local/lib/python3.8/site-packages (from empress) (0.5.6)\n",
            "Requirement already satisfied: iow in /usr/local/lib/python3.8/site-packages (from empress) (1.0.3)\n",
            "Requirement already satisfied: scipy in /usr/local/lib/python3.8/site-packages (from empress) (1.7.1)\n",
            "Requirement already satisfied: pandas in /usr/local/lib/python3.8/site-packages (from empress) (1.2.5)\n",
            "Requirement already satisfied: biom-format in /usr/local/lib/python3.8/site-packages (from empress) (2.1.10)\n",
            "Requirement already satisfied: emperor>=1.0.2 in /usr/local/lib/python3.8/site-packages (from empress) (1.0.3)\n",
            "Requirement already satisfied: click in /usr/local/lib/python3.8/site-packages (from empress) (7.1.2)\n",
            "Requirement already satisfied: numpy in /usr/local/lib/python3.8/site-packages (from empress) (1.21.2)\n",
            "Requirement already satisfied: future in /usr/local/lib/python3.8/site-packages (from emperor>=1.0.2->empress) (0.18.2)\n",
            "Requirement already satisfied: MarkupSafe>=2.0 in /usr/local/lib/python3.8/site-packages (from jinja2->empress) (2.0.1)\n",
            "Requirement already satisfied: CacheControl>=0.11.5 in /usr/local/lib/python3.8/site-packages (from scikit-bio->empress) (0.12.6)\n",
            "Requirement already satisfied: decorator>=3.4.2 in /usr/local/lib/python3.8/site-packages (from scikit-bio->empress) (4.4.2)\n",
            "Requirement already satisfied: lockfile>=0.10.2 in /usr/local/lib/python3.8/site-packages (from scikit-bio->empress) (0.12.2)\n",
            "Requirement already satisfied: matplotlib>=1.4.3 in /usr/local/lib/python3.8/site-packages (from scikit-bio->empress) (3.4.3)\n",
            "Requirement already satisfied: IPython>=3.2.0 in /usr/local/lib/python3.8/site-packages (from scikit-bio->empress) (7.27.0)\n",
            "Requirement already satisfied: hdmedians>=0.13 in /usr/local/lib/python3.8/site-packages (from scikit-bio->empress) (0.14.2)\n",
            "Requirement already satisfied: scikit-learn>=0.19.1 in /usr/local/lib/python3.8/site-packages (from scikit-bio->empress) (0.24.1)\n",
            "Requirement already satisfied: natsort>=4.0.3 in /usr/local/lib/python3.8/site-packages (from scikit-bio->empress) (7.1.1)\n",
            "Requirement already satisfied: msgpack>=0.5.2 in /usr/local/lib/python3.8/site-packages (from CacheControl>=0.11.5->scikit-bio->empress) (1.0.2)\n",
            "Requirement already satisfied: requests in /usr/local/lib/python3.8/site-packages (from CacheControl>=0.11.5->scikit-bio->empress) (2.25.1)\n",
            "Requirement already satisfied: Cython>=0.23 in /usr/local/lib/python3.8/site-packages (from hdmedians>=0.13->scikit-bio->empress) (0.29.24)\n",
            "Requirement already satisfied: prompt-toolkit!=3.0.0,!=3.0.1,<3.1.0,>=2.0.0 in /usr/local/lib/python3.8/site-packages (from IPython>=3.2.0->scikit-bio->empress) (3.0.20)\n",
            "Requirement already satisfied: backcall in /usr/local/lib/python3.8/site-packages (from IPython>=3.2.0->scikit-bio->empress) (0.2.0)\n",
            "Requirement already satisfied: pexpect>4.3 in /usr/local/lib/python3.8/site-packages (from IPython>=3.2.0->scikit-bio->empress) (4.8.0)\n",
            "Requirement already satisfied: pickleshare in /usr/local/lib/python3.8/site-packages (from IPython>=3.2.0->scikit-bio->empress) (0.7.5)\n",
            "Requirement already satisfied: matplotlib-inline in /usr/local/lib/python3.8/site-packages (from IPython>=3.2.0->scikit-bio->empress) (0.1.3)\n",
            "Requirement already satisfied: pygments in /usr/local/lib/python3.8/site-packages (from IPython>=3.2.0->scikit-bio->empress) (2.10.0)\n",
            "Requirement already satisfied: traitlets>=4.2 in /usr/local/lib/python3.8/site-packages (from IPython>=3.2.0->scikit-bio->empress) (5.1.0)\n",
            "Requirement already satisfied: setuptools>=18.5 in /usr/local/lib/python3.8/site-packages (from IPython>=3.2.0->scikit-bio->empress) (58.0.4)\n",
            "Requirement already satisfied: jedi>=0.16 in /usr/local/lib/python3.8/site-packages (from IPython>=3.2.0->scikit-bio->empress) (0.18.0)\n",
            "Requirement already satisfied: parso<0.9.0,>=0.8.0 in /usr/local/lib/python3.8/site-packages (from jedi>=0.16->IPython>=3.2.0->scikit-bio->empress) (0.8.2)\n",
            "Requirement already satisfied: kiwisolver>=1.0.1 in /usr/local/lib/python3.8/site-packages (from matplotlib>=1.4.3->scikit-bio->empress) (1.3.2)\n",
            "Requirement already satisfied: pillow>=6.2.0 in /usr/local/lib/python3.8/site-packages (from matplotlib>=1.4.3->scikit-bio->empress) (8.3.2)\n",
            "Requirement already satisfied: cycler>=0.10 in /usr/local/lib/python3.8/site-packages (from matplotlib>=1.4.3->scikit-bio->empress) (0.10.0)\n",
            "Requirement already satisfied: python-dateutil>=2.7 in /usr/local/lib/python3.8/site-packages (from matplotlib>=1.4.3->scikit-bio->empress) (2.8.2)\n",
            "Requirement already satisfied: pyparsing>=2.2.1 in /usr/local/lib/python3.8/site-packages (from matplotlib>=1.4.3->scikit-bio->empress) (2.4.7)\n",
            "Requirement already satisfied: six in /usr/local/lib/python3.8/site-packages (from cycler>=0.10->matplotlib>=1.4.3->scikit-bio->empress) (1.16.0)\n",
            "Requirement already satisfied: pytz>=2017.3 in /usr/local/lib/python3.8/site-packages (from pandas->empress) (2021.1)\n",
            "Requirement already satisfied: ptyprocess>=0.5 in /usr/local/lib/python3.8/site-packages (from pexpect>4.3->IPython>=3.2.0->scikit-bio->empress) (0.7.0)\n",
            "Requirement already satisfied: wcwidth in /usr/local/lib/python3.8/site-packages (from prompt-toolkit!=3.0.0,!=3.0.1,<3.1.0,>=2.0.0->IPython>=3.2.0->scikit-bio->empress) (0.2.5)\n",
            "Requirement already satisfied: joblib>=0.11 in /usr/local/lib/python3.8/site-packages (from scikit-learn>=0.19.1->scikit-bio->empress) (1.0.1)\n",
            "Requirement already satisfied: threadpoolctl>=2.0.0 in /usr/local/lib/python3.8/site-packages (from scikit-learn>=0.19.1->scikit-bio->empress) (2.2.0)\n",
            "Requirement already satisfied: h5py in /usr/local/lib/python3.8/site-packages (from biom-format->empress) (3.3.0)\n",
            "Requirement already satisfied: nose>=1.3.7 in /usr/local/lib/python3.8/site-packages (from iow->empress) (1.3.7)\n",
            "Requirement already satisfied: chardet<5,>=3.0.2 in /usr/local/lib/python3.8/site-packages (from requests->CacheControl>=0.11.5->scikit-bio->empress) (4.0.0)\n",
            "Requirement already satisfied: urllib3<1.27,>=1.21.1 in /usr/local/lib/python3.8/site-packages (from requests->CacheControl>=0.11.5->scikit-bio->empress) (1.26.6)\n",
            "Requirement already satisfied: idna<3,>=2.5 in /usr/local/lib/python3.8/site-packages (from requests->CacheControl>=0.11.5->scikit-bio->empress) (2.10)\n",
            "Requirement already satisfied: certifi>=2017.4.17 in /usr/local/lib/python3.8/site-packages (from requests->CacheControl>=0.11.5->scikit-bio->empress) (2021.5.30)\n",
            "\u001b[33mWARNING: Running pip as the 'root' user can result in broken permissions and conflicting behaviour with the system package manager. It is recommended to use a virtual environment instead: https://pip.pypa.io/warnings/venv\u001b[0m\n"
          ]
        }
      ]
    },
    {
      "cell_type": "code",
      "execution_count": null,
      "metadata": {
        "colab": {
          "base_uri": "https://localhost:8080/"
        },
        "id": "cSS_y3Kligrc",
        "outputId": "d4392d18-5918-4c96-a939-31d4b8233a21"
      },
      "outputs": [
        {
          "output_type": "stream",
          "name": "stdout",
          "text": [
            "\u001b[32mSaved Visualization to: tree/empress.qzv\u001b[0m\n"
          ]
        }
      ],
      "source": [
        "!qiime empress tree-plot \\\n",
        "    --i-tree tree/rooted_tree.qza \\\n",
        "    --o-visualization tree/empress.qzv"
      ]
    },
    {
      "cell_type": "code",
      "execution_count": null,
      "metadata": {
        "colab": {
          "base_uri": "https://localhost:8080/"
        },
        "id": "0js6xHuw-NqF",
        "outputId": "8c647b33-604b-487c-da25-a0e64720cf39"
      },
      "outputs": [
        {
          "output_type": "stream",
          "name": "stdout",
          "text": [
            "\u001b[32mSaved FeatureTable[Frequency] to: diversity/rarefied_table.qza\u001b[0m\n",
            "\u001b[32mSaved SampleData[AlphaDiversity] to: diversity/faith_pd_vector.qza\u001b[0m\n",
            "\u001b[32mSaved SampleData[AlphaDiversity] to: diversity/observed_features_vector.qza\u001b[0m\n",
            "\u001b[32mSaved SampleData[AlphaDiversity] to: diversity/shannon_vector.qza\u001b[0m\n",
            "\u001b[32mSaved SampleData[AlphaDiversity] to: diversity/evenness_vector.qza\u001b[0m\n",
            "\u001b[32mSaved DistanceMatrix to: diversity/unweighted_unifrac_distance_matrix.qza\u001b[0m\n",
            "\u001b[32mSaved DistanceMatrix to: diversity/weighted_unifrac_distance_matrix.qza\u001b[0m\n",
            "\u001b[32mSaved DistanceMatrix to: diversity/jaccard_distance_matrix.qza\u001b[0m\n",
            "\u001b[32mSaved DistanceMatrix to: diversity/bray_curtis_distance_matrix.qza\u001b[0m\n",
            "\u001b[32mSaved PCoAResults to: diversity/unweighted_unifrac_pcoa_results.qza\u001b[0m\n",
            "\u001b[32mSaved PCoAResults to: diversity/weighted_unifrac_pcoa_results.qza\u001b[0m\n",
            "\u001b[32mSaved PCoAResults to: diversity/jaccard_pcoa_results.qza\u001b[0m\n",
            "\u001b[32mSaved PCoAResults to: diversity/bray_curtis_pcoa_results.qza\u001b[0m\n",
            "\u001b[32mSaved Visualization to: diversity/unweighted_unifrac_emperor.qzv\u001b[0m\n",
            "\u001b[32mSaved Visualization to: diversity/weighted_unifrac_emperor.qzv\u001b[0m\n",
            "\u001b[32mSaved Visualization to: diversity/jaccard_emperor.qzv\u001b[0m\n",
            "\u001b[32mSaved Visualization to: diversity/bray_curtis_emperor.qzv\u001b[0m\n"
          ]
        }
      ],
      "source": [
        "!qiime diversity core-metrics-phylogenetic \\\n",
        "    --i-table dada2/table.qza \\\n",
        "    --i-phylogeny tree/rooted_tree.qza \\\n",
        "    --p-sampling-depth 10000 \\\n",
        "    --m-metadata-file data/metadata.tsv \\\n",
        "    --output-dir diversity"
      ]
    },
    {
      "cell_type": "markdown",
      "metadata": {
        "id": "FB7WYPZ1DEoR"
      },
      "source": [
        "# Taxonomy\n",
        "\n",
        "We will use a Bayes classifier trained on the GreenGenes database which can be downloaded from https://docs.qiime2.org/2021.4/data-resources/."
      ]
    },
    {
      "cell_type": "code",
      "execution_count": null,
      "metadata": {
        "colab": {
          "base_uri": "https://localhost:8080/"
        },
        "id": "drgYtfLbDosv",
        "outputId": "fc914d76-b3b9-4d99-ce4d-839e7fc5f7cc"
      },
      "outputs": [
        {
          "output_type": "stream",
          "name": "stdout",
          "text": [
            "--2022-03-12 19:22:59--  https://data.qiime2.org/2021.8/common/gg-13-8-99-515-806-nb-classifier.qza\n",
            "Resolving data.qiime2.org (data.qiime2.org)... 54.200.1.12\n",
            "Connecting to data.qiime2.org (data.qiime2.org)|54.200.1.12|:443... connected.\n",
            "HTTP request sent, awaiting response... 302 FOUND\n",
            "Location: https://s3-us-west-2.amazonaws.com/qiime2-data/2021.8/common/gg-13-8-99-515-806-nb-classifier.qza [following]\n",
            "--2022-03-12 19:22:59--  https://s3-us-west-2.amazonaws.com/qiime2-data/2021.8/common/gg-13-8-99-515-806-nb-classifier.qza\n",
            "Resolving s3-us-west-2.amazonaws.com (s3-us-west-2.amazonaws.com)... 52.218.220.104\n",
            "Connecting to s3-us-west-2.amazonaws.com (s3-us-west-2.amazonaws.com)|52.218.220.104|:443... connected.\n",
            "HTTP request sent, awaiting response... 200 OK\n",
            "Length: 28289645 (27M) [binary/octet-stream]\n",
            "Saving to: ‘gg-13-8-99-515-806-nb-classifier.qza’\n",
            "\n",
            "gg-13-8-99-515-806- 100%[===================>]  26.98M  10.6MB/s    in 2.5s    \n",
            "\n",
            "2022-03-12 19:23:03 (10.6 MB/s) - ‘gg-13-8-99-515-806-nb-classifier.qza’ saved [28289645/28289645]\n",
            "\n"
          ]
        }
      ],
      "source": [
        "!wget https://data.qiime2.org/2021.8/common/gg-13-8-99-515-806-nb-classifier.qza"
      ]
    },
    {
      "cell_type": "code",
      "execution_count": null,
      "metadata": {
        "colab": {
          "base_uri": "https://localhost:8080/"
        },
        "id": "EEBbgvnhDGTs",
        "outputId": "1a842951-7605-4938-9aa9-72200b9f1524"
      },
      "outputs": [
        {
          "output_type": "stream",
          "name": "stdout",
          "text": [
            "\u001b[32mSaved FeatureData[Taxonomy] to: taxa.qza\u001b[0m\n"
          ]
        }
      ],
      "source": [
        "!qiime feature-classifier classify-sklearn \\\n",
        "    --i-reads dada2/representative_sequences.qza \\\n",
        "    --i-classifier gg-13-8-99-515-806-nb-classifier.qza \\\n",
        "    --p-n-jobs 2 \\\n",
        "    --o-classification taxa.qza"
      ]
    },
    {
      "cell_type": "markdown",
      "metadata": {
        "id": "xISxzBo6Mpka"
      },
      "source": [
        "The relative abundances of the different bacterial taxa we have in each sample:"
      ]
    },
    {
      "cell_type": "code",
      "execution_count": null,
      "metadata": {
        "colab": {
          "base_uri": "https://localhost:8080/"
        },
        "id": "4VTL2yEBMqfO",
        "outputId": "3a0c8a08-9444-435c-e443-a6aeb8292892"
      },
      "outputs": [
        {
          "output_type": "stream",
          "name": "stdout",
          "text": [
            "\u001b[32mSaved Visualization to: taxa_barplot.qzv\u001b[0m\n"
          ]
        }
      ],
      "source": [
        "!qiime taxa barplot \\\n",
        "    --i-table dada2/table.qza \\\n",
        "    --i-taxonomy taxa.qza \\\n",
        "    --m-metadata-file data/metadata.tsv \\\n",
        "    --o-visualization taxa_barplot.qzv"
      ]
    },
    {
      "cell_type": "markdown",
      "metadata": {
        "id": "4_FVM8VfX_yQ"
      },
      "source": [
        "Collapse data on a particular taxonomic rank using the QIIME 2 [taxa plugin](https://docs.qiime2.org/2021.4/plugins/available/taxa/)."
      ]
    },
    {
      "cell_type": "code",
      "execution_count": null,
      "metadata": {
        "colab": {
          "base_uri": "https://localhost:8080/"
        },
        "id": "gl72G8KaYmBm",
        "outputId": "27ccce65-3193-4254-d4df-de6019b6eb2c"
      },
      "outputs": [
        {
          "output_type": "stream",
          "name": "stdout",
          "text": [
            "\u001b[32mSaved FeatureTable[Frequency] to: genus.qza\u001b[0m\n"
          ]
        }
      ],
      "source": [
        "!qiime taxa collapse \\\n",
        "    --i-table dada2/table.qza \\\n",
        "    --i-taxonomy taxa.qza \\\n",
        "    --p-level 6 \\\n",
        "    --o-collapsed-table genus.qza"
      ]
    },
    {
      "cell_type": "markdown",
      "metadata": {
        "id": "dlVdzgfbZcjt"
      },
      "source": [
        "Export the table and convert it to a .csv file so that we can analyze these data using tools outside of the QIIME 2 environment."
      ]
    },
    {
      "cell_type": "code",
      "execution_count": null,
      "metadata": {
        "colab": {
          "base_uri": "https://localhost:8080/"
        },
        "id": "ZsxKf3yAZiHk",
        "outputId": "258ee039-8149-4eca-871a-b7369f2de472"
      },
      "outputs": [
        {
          "output_type": "stream",
          "name": "stdout",
          "text": [
            "\u001b[32mExported genus.qza as BIOMV210DirFmt to directory exported\u001b[0m\n"
          ]
        }
      ],
      "source": [
        "!qiime tools export \\\n",
        "    --input-path genus.qza \\\n",
        "    --output-path exported\n",
        "!biom convert -i exported/feature-table.biom -o genus.tsv --to-tsv"
      ]
    },
    {
      "cell_type": "markdown",
      "metadata": {
        "id": "TezGLSEGZrcn"
      },
      "source": [
        "Generate a heatmap using Pandas and Seaborn. "
      ]
    },
    {
      "cell_type": "code",
      "execution_count": null,
      "metadata": {
        "colab": {
          "base_uri": "https://localhost:8080/",
          "height": 285
        },
        "id": "p5zUjU8JZqL4",
        "outputId": "cbdd3120-ab37-4142-ea9b-034f9c0a61b2"
      },
      "outputs": [
        {
          "output_type": "execute_result",
          "data": {
            "text/plain": [
              "<seaborn.matrix.ClusterGrid at 0x7f69f2e0b5d0>"
            ]
          },
          "metadata": {},
          "execution_count": 46
        },
        {
          "output_type": "display_data",
          "data": {
            "text/plain": [
              "<Figure size 1368x432 with 4 Axes>"
            ],
            "image/png": "[encoded data removed]"
          },
          "metadata": {
            "needs_background": "light"
          }
        }
      ],
      "source": [
        "import numpy as np\n",
        "import pandas as pd\n",
        "import seaborn as sns\n",
        "\n",
        "abundances = pd.read_table(\"genus.tsv\", skiprows=1, index_col=0)\n",
        "abundances.index = abundances.index.str.split(\";\").str[5]       # Use only the genus name\n",
        "abundances = abundances[~abundances.index.isin([\"g__\", \"__\"])]  # remove unclassified genera\n",
        "abundances = abundances.iloc[0:100]                             # use only the first 100 genera\n",
        "\n",
        "# Let's do a centered log-ratio transform: log x_i - log mean(x)\n",
        "transformed = abundances.apply(\n",
        "    lambda xs: np.log(xs + 0.5) - np.log(xs.mean() + 0.5),\n",
        "    axis=1)\n",
        "\n",
        "sns.clustermap(transformed.T, cmap=\"magma\", xticklabels=True, figsize=(19, 6))"
      ]
    }
  ],
  "metadata": {
    "colab": {
      "collapsed_sections": [],
      "name": "Data preparation.ipynb",
      "provenance": []
    },
    "kernelspec": {
      "display_name": "Python 3",
      "name": "python3"
    }
  },
  "nbformat": 4,
  "nbformat_minor": 0
}